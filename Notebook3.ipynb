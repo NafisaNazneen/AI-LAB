{
  "nbformat": 4,
  "nbformat_minor": 0,
  "metadata": {
    "colab": {
      "name": "Notebook3.ipynb",
      "provenance": [],
      "authorship_tag": "ABX9TyMDigM2KZaJFYkoVcHrwTW8",
      "include_colab_link": true
    },
    "kernelspec": {
      "name": "python3",
      "display_name": "Python 3"
    }
  },
  "cells": [
    {
      "cell_type": "markdown",
      "metadata": {
        "id": "view-in-github",
        "colab_type": "text"
      },
      "source": [
        "<a href=\"https://colab.research.google.com/github/NafisaNazneen/AI-LAB/blob/main/Notebook3.ipynb\" target=\"_parent\"><img src=\"https://colab.research.google.com/assets/colab-badge.svg\" alt=\"Open In Colab\"/></a>"
      ]
    },
    {
      "cell_type": "code",
      "metadata": {
        "colab": {
          "base_uri": "https://localhost:8080/"
        },
        "id": "rwGxY0rnBl_h",
        "outputId": "112b4c42-5580-4731-da98-5d808e7c3fba"
      },
      "source": [
        "#built-in functions\r\n",
        "\r\n",
        "print(\"Hi, I am semi-colon. Do you miss me?\")\r\n",
        "print(\"Let me know if you miss me or not. \")\r\n",
        "s=input()\r\n",
        "\r\n",
        "a=10\r\n",
        "b=21\r\n",
        "print(max(a,b))\r\n",
        "print(min(a,b))\r\n",
        "\r\n",
        "c=10.4\r\n",
        "d=int(c)\r\n",
        "print(d)\r\n",
        "\r\n",
        "e=\"python\"\r\n",
        "print(type(e))"
      ],
      "execution_count": 1,
      "outputs": [
        {
          "output_type": "stream",
          "text": [
            "Hi, I am semi-colon. Do you miss me?\n",
            "Let me know if you miss me or not. \n",
            "Yes, I do.\n",
            "21\n",
            "10\n",
            "10\n",
            "<class 'str'>\n"
          ],
          "name": "stdout"
        }
      ]
    },
    {
      "cell_type": "code",
      "metadata": {
        "colab": {
          "base_uri": "https://localhost:8080/"
        },
        "id": "y77LdnPhC8Wc",
        "outputId": "321cec3a-2e94-4d6f-ec7a-40a40fddbd38"
      },
      "source": [
        "#user defined function\r\n",
        "\r\n",
        "def add(a, b):\r\n",
        "    c=a+b\r\n",
        "    return c\r\n",
        "\r\n",
        "a=int(input(\"Enter a number: \"))\r\n",
        "b=int(input(\"Enter a number: \"))\r\n",
        "d=add(a,b)\r\n",
        "print(\"The sum is\", d)"
      ],
      "execution_count": 2,
      "outputs": [
        {
          "output_type": "stream",
          "text": [
            "Enter a number: 20\n",
            "Enter a number: 20\n",
            "The sum is 40\n"
          ],
          "name": "stdout"
        }
      ]
    },
    {
      "cell_type": "code",
      "metadata": {
        "colab": {
          "base_uri": "https://localhost:8080/"
        },
        "id": "zmFrH-5UDIU9",
        "outputId": "3957b53e-c158-4186-edf8-956a207aa9a4"
      },
      "source": [
        "#function with multiple parameters\r\n",
        "\r\n",
        "def divisor(x,y,m):\r\n",
        "    if x%m==0 and y%m==0:\r\n",
        "        print(\"%d & %d are divisible by %d\"%(x,y,m))\r\n",
        "    elif x%m==0:\r\n",
        "        print(\"only %d is divisible by %d\"%(x,m))\r\n",
        "    elif y%m==0:\r\n",
        "        print(\"only %d is divisible by %d\"%(y,m))\r\n",
        "    else:\r\n",
        "        print(\"none of %d & %d is divisible by %d\"%(x,y,d))\r\n",
        "\r\n",
        "divisor(10,20,5)\r\n",
        "divisor(12,20,5)\r\n",
        "divisor(10,22,5)\r\n",
        "divisor(2,5,3)"
      ],
      "execution_count": 3,
      "outputs": [
        {
          "output_type": "stream",
          "text": [
            "10 & 20 are divisible by 5\n",
            "only 20 is divisible by 5\n",
            "only 10 is divisible by 5\n",
            "none of 2 & 5 is divisible by 40\n"
          ],
          "name": "stdout"
        }
      ]
    },
    {
      "cell_type": "code",
      "metadata": {
        "colab": {
          "base_uri": "https://localhost:8080/"
        },
        "id": "C0jA_6uUDOnq",
        "outputId": "13b77c76-a369-4524-cdf9-eee2299cb9f8"
      },
      "source": [
        "#function without parameter\r\n",
        "\r\n",
        "def summation():\r\n",
        "    a=3+8\r\n",
        "    return a\r\n",
        "\r\n",
        "b=summation()\r\n",
        "print(b)"
      ],
      "execution_count": 4,
      "outputs": [
        {
          "output_type": "stream",
          "text": [
            "11\n"
          ],
          "name": "stdout"
        }
      ]
    },
    {
      "cell_type": "code",
      "metadata": {
        "colab": {
          "base_uri": "https://localhost:8080/"
        },
        "id": "5fFDksp8DQyM",
        "outputId": "3c988f3e-d2ff-46b9-9101-ebd4c1b3c352"
      },
      "source": [
        "#function with default parameter value\r\n",
        "\r\n",
        "def check(a=0):\r\n",
        "    if a==0:\r\n",
        "        print(\"Zero\")\r\n",
        "    elif a>0:\r\n",
        "        print(\"Positive\")\r\n",
        "    else:\r\n",
        "        print(\"Negative\")\r\n",
        "\r\n",
        "check()     #without parameter\r\n",
        "check(-4)   #with parameter"
      ],
      "execution_count": 5,
      "outputs": [
        {
          "output_type": "stream",
          "text": [
            "Zero\n",
            "Negative\n"
          ],
          "name": "stdout"
        }
      ]
    },
    {
      "cell_type": "code",
      "metadata": {
        "colab": {
          "base_uri": "https://localhost:8080/"
        },
        "id": "K63ZwS3TELcA",
        "outputId": "72d34eb9-0eb1-4099-d37a-171457b6b3ca"
      },
      "source": [
        "#local scope\r\n",
        "\r\n",
        "def local_scope():\r\n",
        "    x=7\r\n",
        "    print(x)\r\n",
        "\r\n",
        "local_scope()\r\n"
      ],
      "execution_count": 7,
      "outputs": [
        {
          "output_type": "stream",
          "text": [
            "7\n"
          ],
          "name": "stdout"
        }
      ]
    },
    {
      "cell_type": "code",
      "metadata": {
        "colab": {
          "base_uri": "https://localhost:8080/"
        },
        "id": "8Eb4L0v-EbIl",
        "outputId": "a5890c3b-f1c9-4f84-99b1-206ea55cd7c6"
      },
      "source": [
        "#local scope\r\n",
        "\r\n",
        "def local_scope():\r\n",
        "    x=7\r\n",
        "    return x\r\n",
        "\r\n",
        "a=local_scope()\r\n",
        "print(a)"
      ],
      "execution_count": 9,
      "outputs": [
        {
          "output_type": "stream",
          "text": [
            "7\n"
          ],
          "name": "stdout"
        }
      ]
    },
    {
      "cell_type": "code",
      "metadata": {
        "colab": {
          "base_uri": "https://localhost:8080/"
        },
        "id": "3N2vpEPrEewX",
        "outputId": "8aef2091-812b-47c2-e177-f99c423b566f"
      },
      "source": [
        "#global scope\r\n",
        "\r\n",
        "x=10\r\n",
        "\r\n",
        "def global_scope():\r\n",
        "    print(x)\r\n",
        "\r\n",
        "print(x)\r\n",
        "global_scope()"
      ],
      "execution_count": 10,
      "outputs": [
        {
          "output_type": "stream",
          "text": [
            "10\n",
            "10\n"
          ],
          "name": "stdout"
        }
      ]
    },
    {
      "cell_type": "code",
      "metadata": {
        "colab": {
          "base_uri": "https://localhost:8080/"
        },
        "id": "EP0e6lpSEkvN",
        "outputId": "c81e7022-78a9-4be1-f94f-e293ee2d5f5e"
      },
      "source": [
        "#global scope\r\n",
        "\r\n",
        "def global_scope():\r\n",
        "    global x\r\n",
        "    x=10\r\n",
        "\r\n",
        "global_scope()\r\n",
        "print(x)"
      ],
      "execution_count": 11,
      "outputs": [
        {
          "output_type": "stream",
          "text": [
            "10\n"
          ],
          "name": "stdout"
        }
      ]
    },
    {
      "cell_type": "code",
      "metadata": {
        "colab": {
          "base_uri": "https://localhost:8080/"
        },
        "id": "l1kIN7HXEp2J",
        "outputId": "bcde2a4c-f1e2-4264-c102-652b8b06aa67"
      },
      "source": [
        "#python standard library\r\n",
        "#math module\r\n",
        "\r\n",
        "import math\r\n",
        "\r\n",
        "print(math.pi)          #value of pi\r\n",
        "\r\n",
        "x=9.2\r\n",
        "print(math.ceil(x))     #round to the smallest integer not less than x\r\n",
        "print(math.floor(x))    #rount to the largest integer not greater than x\r\n",
        "\r\n",
        "print(math.sin(78))     #trigonometric sine of x (x in radians)\r\n",
        "\r\n",
        "print(math.pow(2,3))    #2 to the power 3\r\n",
        "\r\n",
        "print(math.sqrt(16))    #square root of 16"
      ],
      "execution_count": 13,
      "outputs": [
        {
          "output_type": "stream",
          "text": [
            "3.141592653589793\n",
            "10\n",
            "9\n",
            "0.5139784559875352\n",
            "8.0\n",
            "4.0\n"
          ],
          "name": "stdout"
        }
      ]
    }
  ]
}