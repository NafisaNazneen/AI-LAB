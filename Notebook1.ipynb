{
  "nbformat": 4,
  "nbformat_minor": 0,
  "metadata": {
    "colab": {
      "name": "Notebook1.ipynb",
      "provenance": [],
      "authorship_tag": "ABX9TyP0VwXqZ31AOpAgnENeIOGV",
      "include_colab_link": true
    },
    "kernelspec": {
      "name": "python3",
      "display_name": "Python 3"
    }
  },
  "cells": [
    {
      "cell_type": "markdown",
      "metadata": {
        "id": "view-in-github",
        "colab_type": "text"
      },
      "source": [
        "<a href=\"https://colab.research.google.com/github/NafisaNazneen/AI-LAB/blob/main/Notebook1.ipynb\" target=\"_parent\"><img src=\"https://colab.research.google.com/assets/colab-badge.svg\" alt=\"Open In Colab\"/></a>"
      ]
    },
    {
      "cell_type": "markdown",
      "metadata": {
        "id": "kzN23nKFqvub"
      },
      "source": [
        "# **Introduction to Python**"
      ]
    },
    {
      "cell_type": "markdown",
      "metadata": {
        "id": "6MoPW9F1rlKq"
      },
      "source": [
        "**Hello world**"
      ]
    },
    {
      "cell_type": "code",
      "metadata": {
        "colab": {
          "base_uri": "https://localhost:8080/"
        },
        "id": "NxkGDsAEq57O",
        "outputId": "8d8ac3b8-fdf8-4af9-ea22-d70df4681609"
      },
      "source": [
        "print(\"Hello World\")"
      ],
      "execution_count": null,
      "outputs": [
        {
          "output_type": "stream",
          "text": [
            "Hello World\n"
          ],
          "name": "stdout"
        }
      ]
    },
    {
      "cell_type": "markdown",
      "metadata": {
        "id": "8lKH5OyMr7io"
      },
      "source": [
        "**Variables and assignment statements**"
      ]
    },
    {
      "cell_type": "code",
      "metadata": {
        "colab": {
          "base_uri": "https://localhost:8080/"
        },
        "id": "VPewEbQ3rftv",
        "outputId": "453ce3d2-bb59-4ea4-8232-30a677b75851"
      },
      "source": [
        "x=5\r\n",
        "y=2\r\n",
        "print(x+y)\r\n",
        "\r\n",
        "total = x+y\r\n",
        "print(total)"
      ],
      "execution_count": null,
      "outputs": [
        {
          "output_type": "stream",
          "text": [
            "7\n",
            "7\n"
          ],
          "name": "stdout"
        }
      ]
    },
    {
      "cell_type": "code",
      "metadata": {
        "colab": {
          "base_uri": "https://localhost:8080/"
        },
        "id": "-oKhNZEUsGsJ",
        "outputId": "f210bf0d-97d2-4ef6-d753-d39cc4cf9d6c"
      },
      "source": [
        "name1 = \"Nafisa\"\r\n",
        "name2 = \"Nazneen\"\r\n",
        "print(name1, name2)"
      ],
      "execution_count": null,
      "outputs": [
        {
          "output_type": "stream",
          "text": [
            "Nafisa Nazneen\n"
          ],
          "name": "stdout"
        }
      ]
    },
    {
      "cell_type": "markdown",
      "metadata": {
        "id": "c8abNBmosZWH"
      },
      "source": [
        "**Types**"
      ]
    },
    {
      "cell_type": "code",
      "metadata": {
        "colab": {
          "base_uri": "https://localhost:8080/"
        },
        "id": "Sr0_E5vcsdc2",
        "outputId": "09550545-9997-414c-8edb-8b677d04cc08"
      },
      "source": [
        "x =7\r\n",
        "type(x)"
      ],
      "execution_count": null,
      "outputs": [
        {
          "output_type": "execute_result",
          "data": {
            "text/plain": [
              "int"
            ]
          },
          "metadata": {
            "tags": []
          },
          "execution_count": 5
        }
      ]
    },
    {
      "cell_type": "code",
      "metadata": {
        "colab": {
          "base_uri": "https://localhost:8080/"
        },
        "id": "jPW7cb2hskNL",
        "outputId": "859d2817-c15a-49f8-cf16-faa44694f95d"
      },
      "source": [
        "type(7.5)"
      ],
      "execution_count": null,
      "outputs": [
        {
          "output_type": "execute_result",
          "data": {
            "text/plain": [
              "float"
            ]
          },
          "metadata": {
            "tags": []
          },
          "execution_count": 6
        }
      ]
    },
    {
      "cell_type": "code",
      "metadata": {
        "colab": {
          "base_uri": "https://localhost:8080/"
        },
        "id": "eJCakIzjsm_5",
        "outputId": "11ccfd03-050c-4e15-ed13-1181ddeffa53"
      },
      "source": [
        "type(name1)"
      ],
      "execution_count": null,
      "outputs": [
        {
          "output_type": "execute_result",
          "data": {
            "text/plain": [
              "str"
            ]
          },
          "metadata": {
            "tags": []
          },
          "execution_count": 8
        }
      ]
    },
    {
      "cell_type": "markdown",
      "metadata": {
        "id": "4lLXB3BTAhwF"
      },
      "source": [
        "**Arithmetic operators**"
      ]
    },
    {
      "cell_type": "code",
      "metadata": {
        "colab": {
          "base_uri": "https://localhost:8080/"
        },
        "id": "K9h2zFUCAtri",
        "outputId": "cc64c98c-e075-4f42-9f34-9973466a8b57"
      },
      "source": [
        "multiplication = 7*4\r\n",
        "print(multiplication)"
      ],
      "execution_count": null,
      "outputs": [
        {
          "output_type": "stream",
          "text": [
            "28\n"
          ],
          "name": "stdout"
        }
      ]
    },
    {
      "cell_type": "code",
      "metadata": {
        "colab": {
          "base_uri": "https://localhost:8080/"
        },
        "id": "4pyv3mlBA38c",
        "outputId": "fc65f89d-7dca-415c-ab9d-e2931a4b3263"
      },
      "source": [
        "addition = 10+15\r\n",
        "print(addition)"
      ],
      "execution_count": null,
      "outputs": [
        {
          "output_type": "stream",
          "text": [
            "25\n"
          ],
          "name": "stdout"
        }
      ]
    },
    {
      "cell_type": "code",
      "metadata": {
        "colab": {
          "base_uri": "https://localhost:8080/"
        },
        "id": "qZb0qs1DBAHY",
        "outputId": "320d08d4-a0c7-4a7d-d0da-07fa0f9a6737"
      },
      "source": [
        "sub = 40-8\r\n",
        "print(sub)"
      ],
      "execution_count": null,
      "outputs": [
        {
          "output_type": "stream",
          "text": [
            "32\n"
          ],
          "name": "stdout"
        }
      ]
    },
    {
      "cell_type": "code",
      "metadata": {
        "colab": {
          "base_uri": "https://localhost:8080/"
        },
        "id": "57FlifK3BGfy",
        "outputId": "f282b788-65fe-4bf7-911c-3302165fdb53"
      },
      "source": [
        "Exponentiation = 2**10\r\n",
        "print(Exponentiation)"
      ],
      "execution_count": null,
      "outputs": [
        {
          "output_type": "stream",
          "text": [
            "1024\n"
          ],
          "name": "stdout"
        }
      ]
    },
    {
      "cell_type": "markdown",
      "metadata": {
        "id": "Mhm2MNgIBM7Y"
      },
      "source": [
        "**True Division (/) vs. Floor Division (//)**"
      ]
    },
    {
      "cell_type": "code",
      "metadata": {
        "colab": {
          "base_uri": "https://localhost:8080/"
        },
        "id": "H-GznhGRBPvA",
        "outputId": "9dd938da-50eb-4912-9e64-572f2c46c716"
      },
      "source": [
        "True_Division = 7/4\r\n",
        "print(True_Division)"
      ],
      "execution_count": null,
      "outputs": [
        {
          "output_type": "stream",
          "text": [
            "1.75\n"
          ],
          "name": "stdout"
        }
      ]
    },
    {
      "cell_type": "code",
      "metadata": {
        "colab": {
          "base_uri": "https://localhost:8080/"
        },
        "id": "doa4OrgnBVaU",
        "outputId": "8fcd9264-0629-4ad3-9db5-c852ca7aeae7"
      },
      "source": [
        "Floor_Division = 7//4\r\n",
        "print(Floor_Division)"
      ],
      "execution_count": null,
      "outputs": [
        {
          "output_type": "stream",
          "text": [
            "1\n"
          ],
          "name": "stdout"
        }
      ]
    },
    {
      "cell_type": "code",
      "metadata": {
        "colab": {
          "base_uri": "https://localhost:8080/"
        },
        "id": "m-v8bFAcBYce",
        "outputId": "c40878f9-80df-476a-ba1b-14e47be202f7"
      },
      "source": [
        "remainder = 15%7\r\n",
        "print(remainder)"
      ],
      "execution_count": null,
      "outputs": [
        {
          "output_type": "stream",
          "text": [
            "1\n"
          ],
          "name": "stdout"
        }
      ]
    },
    {
      "cell_type": "markdown",
      "metadata": {
        "id": "lpOaxNFBBvcJ"
      },
      "source": [
        "**Relational Operators**\r\n"
      ]
    },
    {
      "cell_type": "code",
      "metadata": {
        "id": "8Z3FsXA4B1Ko"
      },
      "source": [
        "x = 105\r\n",
        "y = 100"
      ],
      "execution_count": null,
      "outputs": []
    },
    {
      "cell_type": "code",
      "metadata": {
        "colab": {
          "base_uri": "https://localhost:8080/"
        },
        "id": "Bwbh74t5B7S-",
        "outputId": "84f00b7b-bec9-44b9-f30c-61f69d1d753b"
      },
      "source": [
        "x>y"
      ],
      "execution_count": null,
      "outputs": [
        {
          "output_type": "execute_result",
          "data": {
            "text/plain": [
              "True"
            ]
          },
          "metadata": {
            "tags": []
          },
          "execution_count": 10
        }
      ]
    },
    {
      "cell_type": "code",
      "metadata": {
        "colab": {
          "base_uri": "https://localhost:8080/"
        },
        "id": "GVz029R6B-ON",
        "outputId": "fbfb2231-31ef-4b2a-f672-bd774c30144a"
      },
      "source": [
        "x<y"
      ],
      "execution_count": null,
      "outputs": [
        {
          "output_type": "execute_result",
          "data": {
            "text/plain": [
              "False"
            ]
          },
          "metadata": {
            "tags": []
          },
          "execution_count": 11
        }
      ]
    },
    {
      "cell_type": "code",
      "metadata": {
        "colab": {
          "base_uri": "https://localhost:8080/"
        },
        "id": "aNSOcjNyCBZc",
        "outputId": "f404cc11-a707-4365-f15d-d237ee0da493"
      },
      "source": [
        "x==y"
      ],
      "execution_count": null,
      "outputs": [
        {
          "output_type": "execute_result",
          "data": {
            "text/plain": [
              "False"
            ]
          },
          "metadata": {
            "tags": []
          },
          "execution_count": 12
        }
      ]
    },
    {
      "cell_type": "code",
      "metadata": {
        "colab": {
          "base_uri": "https://localhost:8080/"
        },
        "id": "IvAOx1jvCE2V",
        "outputId": "c1255626-3594-49bb-8c06-91395623b85c"
      },
      "source": [
        "x!=y"
      ],
      "execution_count": null,
      "outputs": [
        {
          "output_type": "execute_result",
          "data": {
            "text/plain": [
              "True"
            ]
          },
          "metadata": {
            "tags": []
          },
          "execution_count": 13
        }
      ]
    },
    {
      "cell_type": "code",
      "metadata": {
        "colab": {
          "base_uri": "https://localhost:8080/"
        },
        "id": "7PGVddaTCIdq",
        "outputId": "55e616cc-912a-4bb8-95bf-c8d8409e9776"
      },
      "source": [
        "x>=y"
      ],
      "execution_count": null,
      "outputs": [
        {
          "output_type": "execute_result",
          "data": {
            "text/plain": [
              "True"
            ]
          },
          "metadata": {
            "tags": []
          },
          "execution_count": 14
        }
      ]
    },
    {
      "cell_type": "code",
      "metadata": {
        "colab": {
          "base_uri": "https://localhost:8080/"
        },
        "id": "Wo4fCTEcCLMq",
        "outputId": "e6dea852-e7af-44c1-8d0f-53c9d5390d61"
      },
      "source": [
        "x<=y"
      ],
      "execution_count": null,
      "outputs": [
        {
          "output_type": "execute_result",
          "data": {
            "text/plain": [
              "False"
            ]
          },
          "metadata": {
            "tags": []
          },
          "execution_count": 15
        }
      ]
    },
    {
      "cell_type": "markdown",
      "metadata": {
        "id": "2WEv1Jt8CQv5"
      },
      "source": [
        "**Chaining Comparisons**"
      ]
    },
    {
      "cell_type": "code",
      "metadata": {
        "id": "rfC-EaR4CU0y"
      },
      "source": [
        "x = 3\r\n",
        "y = 10"
      ],
      "execution_count": null,
      "outputs": []
    },
    {
      "cell_type": "code",
      "metadata": {
        "colab": {
          "base_uri": "https://localhost:8080/"
        },
        "id": "iJ2StANVCZyM",
        "outputId": "cafe74b4-d9fb-4386-8129-4c87702bf76b"
      },
      "source": [
        "1 <= x <= 5"
      ],
      "execution_count": null,
      "outputs": [
        {
          "output_type": "execute_result",
          "data": {
            "text/plain": [
              "True"
            ]
          },
          "metadata": {
            "tags": []
          },
          "execution_count": 17
        }
      ]
    },
    {
      "cell_type": "code",
      "metadata": {
        "colab": {
          "base_uri": "https://localhost:8080/"
        },
        "id": "4ws_3_5KCcg4",
        "outputId": "92cacea2-9de0-4407-f426-fab28e0771bf"
      },
      "source": [
        "1 <= y <= 5"
      ],
      "execution_count": null,
      "outputs": [
        {
          "output_type": "execute_result",
          "data": {
            "text/plain": [
              "False"
            ]
          },
          "metadata": {
            "tags": []
          },
          "execution_count": 18
        }
      ]
    },
    {
      "cell_type": "markdown",
      "metadata": {
        "id": "Zd1fuE5wGccm"
      },
      "source": [
        "**Print Function**"
      ]
    },
    {
      "cell_type": "code",
      "metadata": {
        "colab": {
          "base_uri": "https://localhost:8080/"
        },
        "id": "rnM8ecE0GfIS",
        "outputId": "b9f665b5-8b69-406d-8780-023c574b5366"
      },
      "source": [
        "print('Welcome', 'to', 'Python!')"
      ],
      "execution_count": null,
      "outputs": [
        {
          "output_type": "stream",
          "text": [
            "Welcome to Python!\n"
          ],
          "name": "stdout"
        }
      ]
    },
    {
      "cell_type": "code",
      "metadata": {
        "colab": {
          "base_uri": "https://localhost:8080/"
        },
        "id": "qyvMLe3YG6y-",
        "outputId": "f6393b71-7348-4584-feb7-3e65fd47a431"
      },
      "source": [
        "print('Welcome\\nto\\n\\nPython!')"
      ],
      "execution_count": null,
      "outputs": [
        {
          "output_type": "stream",
          "text": [
            "Welcome\n",
            "to\n",
            "\n",
            "Python!\n"
          ],
          "name": "stdout"
        }
      ]
    },
    {
      "cell_type": "code",
      "metadata": {
        "colab": {
          "base_uri": "https://localhost:8080/"
        },
        "id": "gN_VsH2wJQmn",
        "outputId": "2165b123-206f-4046-b52c-39c5c82181c4"
      },
      "source": [
        "print('this is a longer string, so we \\\r\n",
        " split it over two lines')"
      ],
      "execution_count": null,
      "outputs": [
        {
          "output_type": "stream",
          "text": [
            "this is a longer string, so we  split it over two lines\n"
          ],
          "name": "stdout"
        }
      ]
    },
    {
      "cell_type": "code",
      "metadata": {
        "colab": {
          "base_uri": "https://localhost:8080/"
        },
        "id": "aa8FYE0PMyO_",
        "outputId": "6ca2b510-2ad6-41c0-9edc-8622829579c4"
      },
      "source": [
        "print('Sum is', 7 + 3)"
      ],
      "execution_count": null,
      "outputs": [
        {
          "output_type": "stream",
          "text": [
            "Sum is 10\n"
          ],
          "name": "stdout"
        }
      ]
    },
    {
      "cell_type": "code",
      "metadata": {
        "colab": {
          "base_uri": "https://localhost:8080/"
        },
        "id": "z5jhqvnkM203",
        "outputId": "977ad849-ab63-44c4-c4ef-9d69cbf875a7"
      },
      "source": [
        "print('int(5.2)', 'truncates 5.2 to', int(5.2))"
      ],
      "execution_count": null,
      "outputs": [
        {
          "output_type": "stream",
          "text": [
            "int(5.2) truncates 5.2 to 5\n"
          ],
          "name": "stdout"
        }
      ]
    },
    {
      "cell_type": "code",
      "metadata": {
        "colab": {
          "base_uri": "https://localhost:8080/"
        },
        "id": "oP5BRsNLNEfe",
        "outputId": "8d9486a4-0a6c-43b7-e651-9c70b36269f3"
      },
      "source": [
        "print('Display \"hi\" in quotes')"
      ],
      "execution_count": null,
      "outputs": [
        {
          "output_type": "stream",
          "text": [
            "Display \"hi\" in quotes\n"
          ],
          "name": "stdout"
        }
      ]
    },
    {
      "cell_type": "code",
      "metadata": {
        "colab": {
          "base_uri": "https://localhost:8080/"
        },
        "id": "ftM2hMsCNM8f",
        "outputId": "095e2ea4-2e6d-4f44-88c8-f7b39176f4ce"
      },
      "source": [
        "print('Display \\'hi\\' in quotes')"
      ],
      "execution_count": null,
      "outputs": [
        {
          "output_type": "stream",
          "text": [
            "Display 'hi' in quotes\n"
          ],
          "name": "stdout"
        }
      ]
    },
    {
      "cell_type": "code",
      "metadata": {
        "colab": {
          "base_uri": "https://localhost:8080/"
        },
        "id": "-HciQL6ZNPB5",
        "outputId": "555e2873-8deb-4f79-a134-7a3d33890d7f"
      },
      "source": [
        "print(\"Display the name O'Brien\")"
      ],
      "execution_count": null,
      "outputs": [
        {
          "output_type": "stream",
          "text": [
            "Display the name O'Brien\n"
          ],
          "name": "stdout"
        }
      ]
    },
    {
      "cell_type": "code",
      "metadata": {
        "colab": {
          "base_uri": "https://localhost:8080/"
        },
        "id": "jifHZvLRNUvQ",
        "outputId": "c380c456-c026-47fc-d907-a6d4c72ff359"
      },
      "source": [
        "print(\"Display \\\"hi\\\" in quotes\")"
      ],
      "execution_count": null,
      "outputs": [
        {
          "output_type": "stream",
          "text": [
            "Display \"hi\" in quotes\n"
          ],
          "name": "stdout"
        }
      ]
    },
    {
      "cell_type": "code",
      "metadata": {
        "colab": {
          "base_uri": "https://localhost:8080/"
        },
        "id": "z9s6vvuDdoO0",
        "outputId": "86c46bea-1509-4cbc-91e6-0f0f7e2901cd"
      },
      "source": [
        "print(\"\"\"Display \"hi\" and 'bye' in quotes\"\"\")"
      ],
      "execution_count": 1,
      "outputs": [
        {
          "output_type": "stream",
          "text": [
            "Display \"hi\" and 'bye' in quotes\n"
          ],
          "name": "stdout"
        }
      ]
    },
    {
      "cell_type": "code",
      "metadata": {
        "id": "CL5y5ISmd6AI"
      },
      "source": [
        "triple_quoted_string = \"\"\"This is a triple-quoted\r\n",
        "string that spans two lines\"\"\""
      ],
      "execution_count": 2,
      "outputs": []
    },
    {
      "cell_type": "code",
      "metadata": {
        "colab": {
          "base_uri": "https://localhost:8080/"
        },
        "id": "dOtHxc1jeEox",
        "outputId": "abd7f46a-6a23-4b8f-de92-f2b0dd831adb"
      },
      "source": [
        "print(triple_quoted_string)"
      ],
      "execution_count": 3,
      "outputs": [
        {
          "output_type": "stream",
          "text": [
            "This is a triple-quoted\n",
            "string that spans two lines\n"
          ],
          "name": "stdout"
        }
      ]
    },
    {
      "cell_type": "code",
      "metadata": {
        "colab": {
          "base_uri": "https://localhost:8080/",
          "height": 35
        },
        "id": "SsinKfg_eHYG",
        "outputId": "96953fc5-f050-46b7-c0e1-dcb379a5b8d7"
      },
      "source": [
        "triple_quoted_string"
      ],
      "execution_count": 4,
      "outputs": [
        {
          "output_type": "execute_result",
          "data": {
            "application/vnd.google.colaboratory.intrinsic+json": {
              "type": "string"
            },
            "text/plain": [
              "'This is a triple-quoted\\nstring that spans two lines'"
            ]
          },
          "metadata": {
            "tags": []
          },
          "execution_count": 4
        }
      ]
    },
    {
      "cell_type": "code",
      "metadata": {
        "colab": {
          "base_uri": "https://localhost:8080/"
        },
        "id": "kZSdyKhje8Ce",
        "outputId": "ea97bfff-18e4-4118-ebbf-8df2605078b4"
      },
      "source": [
        "print(\"\"\"This is a lengthy\r\n",
        "multiline string containing\r\n",
        "a few lines \\\r\n",
        "of text\"\"\")"
      ],
      "execution_count": 5,
      "outputs": [
        {
          "output_type": "stream",
          "text": [
            "This is a lengthy\n",
            "multiline string containing\n",
            "a few lines of text\n"
          ],
          "name": "stdout"
        }
      ]
    },
    {
      "cell_type": "markdown",
      "metadata": {
        "id": "_x20AfFHfE3C"
      },
      "source": [
        "**Precision Handling in Python**"
      ]
    },
    {
      "cell_type": "code",
      "metadata": {
        "id": "5gsFnfKTfLI1"
      },
      "source": [
        "a = 3.4536475856"
      ],
      "execution_count": 6,
      "outputs": []
    },
    {
      "cell_type": "code",
      "metadata": {
        "colab": {
          "base_uri": "https://localhost:8080/"
        },
        "id": "2vVk-If6hiTi",
        "outputId": "cebb07cd-f92c-454b-df6b-96bfa4870f33"
      },
      "source": [
        "# using \"%\" to print value till 2 decimal places  \r\n",
        "print (\"The value of number till 2 decimal place(using %) is : \",end=\"\") \r\n",
        "print ('%.2f' %a) "
      ],
      "execution_count": 7,
      "outputs": [
        {
          "output_type": "stream",
          "text": [
            "The value of number till 2 decimal place(using %) is : 3.45\n"
          ],
          "name": "stdout"
        }
      ]
    },
    {
      "cell_type": "code",
      "metadata": {
        "colab": {
          "base_uri": "https://localhost:8080/"
        },
        "id": "ZaM6ZWD3iMeB",
        "outputId": "6f7aa8a9-f85a-4d6b-8b2d-6a6973ca54d8"
      },
      "source": [
        "# using \"%\" to print value till 4 decimal places  \r\n",
        "print (\"The value of number till 2 decimal place(using %) is : \",end=\"\") \r\n",
        "print ('%.4f' %a)"
      ],
      "execution_count": 8,
      "outputs": [
        {
          "output_type": "stream",
          "text": [
            "The value of number till 2 decimal place(using %) is : 3.4536\n"
          ],
          "name": "stdout"
        }
      ]
    }
  ]
}