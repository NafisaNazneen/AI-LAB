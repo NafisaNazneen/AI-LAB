{
  "nbformat": 4,
  "nbformat_minor": 0,
  "metadata": {
    "colab": {
      "name": "Notebook2.ipynb",
      "provenance": [],
      "authorship_tag": "ABX9TyPkvYnQ1mtOryjfIiyU5who",
      "include_colab_link": true
    },
    "kernelspec": {
      "name": "python3",
      "display_name": "Python 3"
    }
  },
  "cells": [
    {
      "cell_type": "markdown",
      "metadata": {
        "id": "view-in-github",
        "colab_type": "text"
      },
      "source": [
        "<a href=\"https://colab.research.google.com/github/NafisaNazneen/AI-LAB/blob/main/Notebook2.ipynb\" target=\"_parent\"><img src=\"https://colab.research.google.com/assets/colab-badge.svg\" alt=\"Open In Colab\"/></a>"
      ]
    },
    {
      "cell_type": "markdown",
      "metadata": {
        "id": "mBRWIneTpC6J"
      },
      "source": [
        "**IF statement**"
      ]
    },
    {
      "cell_type": "code",
      "metadata": {
        "colab": {
          "base_uri": "https://localhost:8080/"
        },
        "id": "u5rLqiIGpQka",
        "outputId": "e5f1bd11-3f24-4b9c-9902-aa013ed01074"
      },
      "source": [
        "grade = 85\r\n",
        "if grade>=60:\r\n",
        "  print(\"passed\")"
      ],
      "execution_count": 1,
      "outputs": [
        {
          "output_type": "stream",
          "text": [
            "passed\n"
          ],
          "name": "stdout"
        }
      ]
    },
    {
      "cell_type": "markdown",
      "metadata": {
        "id": "llDYmLSjppmt"
      },
      "source": [
        "**If else statement**"
      ]
    },
    {
      "cell_type": "code",
      "metadata": {
        "colab": {
          "base_uri": "https://localhost:8080/"
        },
        "id": "q9n2BUV7pzbK",
        "outputId": "4d715627-6239-459c-9041-eeaba71e1304"
      },
      "source": [
        "grade =85\r\n",
        "if grade>=60:\r\n",
        "  print(\"passed\")\r\n",
        "else:\r\n",
        "  print(\"fail\")"
      ],
      "execution_count": 2,
      "outputs": [
        {
          "output_type": "stream",
          "text": [
            "passed\n"
          ],
          "name": "stdout"
        }
      ]
    },
    {
      "cell_type": "markdown",
      "metadata": {
        "id": "AUck5wzgqDgC"
      },
      "source": [
        "**Conditional expression**"
      ]
    },
    {
      "cell_type": "code",
      "metadata": {
        "id": "OC5DcNq8qK9S"
      },
      "source": [
        "result = ('Passed' if grade >= 60 else 'Failed')"
      ],
      "execution_count": 3,
      "outputs": []
    },
    {
      "cell_type": "code",
      "metadata": {
        "colab": {
          "base_uri": "https://localhost:8080/"
        },
        "id": "KoGV_vX0qST8",
        "outputId": "6a3d7910-158b-4692-9375-3623ba6d694d"
      },
      "source": [
        "print(result)"
      ],
      "execution_count": 4,
      "outputs": [
        {
          "output_type": "stream",
          "text": [
            "Passed\n"
          ],
          "name": "stdout"
        }
      ]
    },
    {
      "cell_type": "markdown",
      "metadata": {
        "id": "9iciMbRfqhrO"
      },
      "source": [
        "**IF...elif....else statement**"
      ]
    },
    {
      "cell_type": "code",
      "metadata": {
        "colab": {
          "base_uri": "https://localhost:8080/"
        },
        "id": "BqLvDgcZqkhS",
        "outputId": "6c1389cb-c690-49a6-825c-4d22b7da805b"
      },
      "source": [
        "grade = 77\r\n",
        "\r\n",
        "if grade >= 90:\r\n",
        "    print('A')\r\n",
        "elif grade >= 80:\r\n",
        "    print('B')\r\n",
        "elif grade >= 70:\r\n",
        "    print('C')\r\n",
        "elif grade >= 60:\r\n",
        "    print('D')\r\n",
        "else:\r\n",
        "    print('F')"
      ],
      "execution_count": 5,
      "outputs": [
        {
          "output_type": "stream",
          "text": [
            "C\n"
          ],
          "name": "stdout"
        }
      ]
    },
    {
      "cell_type": "markdown",
      "metadata": {
        "id": "vM8o3WqfrZfO"
      },
      "source": [
        "**While Statement**"
      ]
    },
    {
      "cell_type": "code",
      "metadata": {
        "colab": {
          "base_uri": "https://localhost:8080/"
        },
        "id": "LEMS3uRmrbqP",
        "outputId": "90e730e4-90d2-4217-d370-2836c3bf532e"
      },
      "source": [
        "number = 1\r\n",
        "\r\n",
        "while (number<10):\r\n",
        "  print(number, end=\" \") #print in same line with space using end =\" \"\r\n",
        "  number+=1"
      ],
      "execution_count": 6,
      "outputs": [
        {
          "output_type": "stream",
          "text": [
            "1 2 3 4 5 6 7 8 9 "
          ],
          "name": "stdout"
        }
      ]
    },
    {
      "cell_type": "code",
      "metadata": {
        "id": "M3j5hx0JrpmZ"
      },
      "source": [
        "product = 3\r\n",
        "\r\n",
        "while product<=50:\r\n",
        "  product = product*3"
      ],
      "execution_count": 7,
      "outputs": []
    },
    {
      "cell_type": "code",
      "metadata": {
        "colab": {
          "base_uri": "https://localhost:8080/"
        },
        "id": "LlDm4DRarsM0",
        "outputId": "9e3d04b0-0c9e-488b-f431-493cd801a1d7"
      },
      "source": [
        "print(product)"
      ],
      "execution_count": 8,
      "outputs": [
        {
          "output_type": "stream",
          "text": [
            "81\n"
          ],
          "name": "stdout"
        }
      ]
    },
    {
      "cell_type": "markdown",
      "metadata": {
        "id": "rydpeqc0rywV"
      },
      "source": [
        "**For statement**"
      ]
    },
    {
      "cell_type": "code",
      "metadata": {
        "colab": {
          "base_uri": "https://localhost:8080/"
        },
        "id": "p3ehFrCYr2cK",
        "outputId": "f14fb59c-93b3-4e6d-9476-95f428e26053"
      },
      "source": [
        "for character in \"programming\":\r\n",
        "  print(character, end=\" \")"
      ],
      "execution_count": 9,
      "outputs": [
        {
          "output_type": "stream",
          "text": [
            "p r o g r a m m i n g "
          ],
          "name": "stdout"
        }
      ]
    },
    {
      "cell_type": "markdown",
      "metadata": {
        "id": "Rub1K7_IsBXc"
      },
      "source": [
        "**Built in Range Function**"
      ]
    },
    {
      "cell_type": "code",
      "metadata": {
        "colab": {
          "base_uri": "https://localhost:8080/"
        },
        "id": "t1ZbthpSsFkV",
        "outputId": "7cac4622-6d7b-46bc-c1f5-1e3b1bdf1d71"
      },
      "source": [
        "for counter in range(10):\r\n",
        "  print(counter, end=\" \")"
      ],
      "execution_count": 10,
      "outputs": [
        {
          "output_type": "stream",
          "text": [
            "0 1 2 3 4 5 6 7 8 9 "
          ],
          "name": "stdout"
        }
      ]
    },
    {
      "cell_type": "code",
      "metadata": {
        "colab": {
          "base_uri": "https://localhost:8080/"
        },
        "id": "GJZQ6c7ysLB5",
        "outputId": "1eafd970-1225-44ec-8fbe-45dcd73f240c"
      },
      "source": [
        "total = 0\r\n",
        "for number in range(1000001):\r\n",
        "  total = total+number\r\n",
        "\r\n",
        "print(total)"
      ],
      "execution_count": 11,
      "outputs": [
        {
          "output_type": "stream",
          "text": [
            "500000500000\n"
          ],
          "name": "stdout"
        }
      ]
    },
    {
      "cell_type": "code",
      "metadata": {
        "colab": {
          "base_uri": "https://localhost:8080/"
        },
        "id": "TM-GHkeXsQbp",
        "outputId": "43afad7e-4259-461e-92f1-2478cd8ef919"
      },
      "source": [
        "for number in range(5,10):\r\n",
        "  print(number, end=\" \")"
      ],
      "execution_count": 12,
      "outputs": [
        {
          "output_type": "stream",
          "text": [
            "5 6 7 8 9 "
          ],
          "name": "stdout"
        }
      ]
    },
    {
      "cell_type": "code",
      "metadata": {
        "colab": {
          "base_uri": "https://localhost:8080/"
        },
        "id": "IPakLYmtsW6S",
        "outputId": "2ff940db-045e-48dd-a7d7-73f4f9f7bc37"
      },
      "source": [
        "for number in range(0,10,2):\r\n",
        "  print(number, end=\" \")"
      ],
      "execution_count": 13,
      "outputs": [
        {
          "output_type": "stream",
          "text": [
            "0 2 4 6 8 "
          ],
          "name": "stdout"
        }
      ]
    },
    {
      "cell_type": "code",
      "metadata": {
        "colab": {
          "base_uri": "https://localhost:8080/"
        },
        "id": "XGPExCuWw-Lw",
        "outputId": "b5afb7c2-1925-4313-cb72-de8567dee2cc"
      },
      "source": [
        "for number in range(10,0,-2):\r\n",
        "  print(number, end=\" \")"
      ],
      "execution_count": 14,
      "outputs": [
        {
          "output_type": "stream",
          "text": [
            "10 8 6 4 2 "
          ],
          "name": "stdout"
        }
      ]
    },
    {
      "cell_type": "markdown",
      "metadata": {
        "id": "Gn1TLYU2xIVU"
      },
      "source": [
        "**Number table print using range function**"
      ]
    },
    {
      "cell_type": "code",
      "metadata": {
        "colab": {
          "base_uri": "https://localhost:8080/"
        },
        "id": "wHM1oI40xKv5",
        "outputId": "04cc2f07-2328-44d1-c7f8-ed4921b136b6"
      },
      "source": [
        "number =  int(input())"
      ],
      "execution_count": 15,
      "outputs": [
        {
          "output_type": "stream",
          "text": [
            "5\n"
          ],
          "name": "stdout"
        }
      ]
    },
    {
      "cell_type": "code",
      "metadata": {
        "colab": {
          "base_uri": "https://localhost:8080/"
        },
        "id": "M4DZhyD_xQgh",
        "outputId": "8004f096-162e-4a55-f2e0-bf822bf8b2b0"
      },
      "source": [
        "for i in range(1,11):\r\n",
        "  print(number,\"X\",i,\"=\",number*i)"
      ],
      "execution_count": 16,
      "outputs": [
        {
          "output_type": "stream",
          "text": [
            "5 X 1 = 5\n",
            "5 X 2 = 10\n",
            "5 X 3 = 15\n",
            "5 X 4 = 20\n",
            "5 X 5 = 25\n",
            "5 X 6 = 30\n",
            "5 X 7 = 35\n",
            "5 X 8 = 40\n",
            "5 X 9 = 45\n",
            "5 X 10 = 50\n"
          ],
          "name": "stdout"
        }
      ]
    },
    {
      "cell_type": "markdown",
      "metadata": {
        "id": "6dNmNlTHyhni"
      },
      "source": [
        "**Nested For Loop**"
      ]
    },
    {
      "cell_type": "code",
      "metadata": {
        "colab": {
          "base_uri": "https://localhost:8080/"
        },
        "id": "XDvaunT2yjtZ",
        "outputId": "155687c8-ab50-4ef2-9e21-0f8552c0cf73"
      },
      "source": [
        "for left in range(7):\r\n",
        "    for right in range(left,7):\r\n",
        "        print(\"[\"+str(left)+\"|\"+str(right)+\"]\", end =\" \")\r\n",
        "    print()"
      ],
      "execution_count": 17,
      "outputs": [
        {
          "output_type": "stream",
          "text": [
            "[0|0] [0|1] [0|2] [0|3] [0|4] [0|5] [0|6] \n",
            "[1|1] [1|2] [1|3] [1|4] [1|5] [1|6] \n",
            "[2|2] [2|3] [2|4] [2|5] [2|6] \n",
            "[3|3] [3|4] [3|5] [3|6] \n",
            "[4|4] [4|5] [4|6] \n",
            "[5|5] [5|6] \n",
            "[6|6] \n"
          ],
          "name": "stdout"
        }
      ]
    },
    {
      "cell_type": "markdown",
      "metadata": {
        "id": "MaABiwcbysj7"
      },
      "source": [
        "**Break statement**"
      ]
    },
    {
      "cell_type": "code",
      "metadata": {
        "colab": {
          "base_uri": "https://localhost:8080/"
        },
        "id": "fnTFDBdoyveO",
        "outputId": "87fb5994-6dd6-4a12-bc39-05c229fa285a"
      },
      "source": [
        "for number in range(10):\r\n",
        "  if  number==5:\r\n",
        "    break\r\n",
        "  print(number, end=\" \")\r\n",
        "    "
      ],
      "execution_count": 18,
      "outputs": [
        {
          "output_type": "stream",
          "text": [
            "0 1 2 3 4 "
          ],
          "name": "stdout"
        }
      ]
    },
    {
      "cell_type": "markdown",
      "metadata": {
        "id": "IsVLxJ5rzvyx"
      },
      "source": [
        "**Continue statement**"
      ]
    },
    {
      "cell_type": "code",
      "metadata": {
        "colab": {
          "base_uri": "https://localhost:8080/"
        },
        "id": "vr_6vxvYzyEt",
        "outputId": "4c7f1082-9689-4774-f470-179144fcd7e8"
      },
      "source": [
        "for number in range(10):\r\n",
        "  if  number==5:\r\n",
        "    continue\r\n",
        "  print(number, end=\" \")"
      ],
      "execution_count": 19,
      "outputs": [
        {
          "output_type": "stream",
          "text": [
            "0 1 2 3 4 6 7 8 9 "
          ],
          "name": "stdout"
        }
      ]
    }
  ]
}